{
 "cells": [
  {
   "cell_type": "code",
   "execution_count": 19,
   "metadata": {},
   "outputs": [
    {
     "data": {
      "text/plain": [
       "\"MultiGraph named 'Companion Network' with 16730 nodes and 50632 edges\""
      ]
     },
     "execution_count": 19,
     "metadata": {},
     "output_type": "execute_result"
    }
   ],
   "source": [
    "from create_network import read_network\n",
    "import networkx as nx\n",
    "\n",
    "net = read_network('../network/ia-escorts-dynamic.edges', verbose=False)\n",
    "nx.info(net)"
   ]
  },
  {
   "cell_type": "code",
   "execution_count": 27,
   "metadata": {},
   "outputs": [
    {
     "data": {
      "text/plain": [
       "\"MultiGraph named 'Companion Network' with 16730 nodes and 38864 edges\""
      ]
     },
     "execution_count": 27,
     "metadata": {},
     "output_type": "execute_result"
    }
   ],
   "source": [
    "for seller in [n for n in net.nodes(data=True) if n[1]['bipartite'] == 1]:\n",
    "    neighbors_dict = dict()\n",
    "    removal_list = list()\n",
    "    for u, v, data in net.edges(seller[0], data=True):\n",
    "        if v not in neighbors_dict.keys():\n",
    "            neighbors_dict[v] = {\n",
    "                'review_sum': int(data['review']),\n",
    "                'n_reviews': 1\n",
    "            }\n",
    "        else:\n",
    "            neighbors_dict[v]['review_sum'] += int(data['review'])\n",
    "            neighbors_dict[v]['n_reviews'] += 1\n",
    "        \n",
    "        removal_list.append((v, u))\n",
    "    \n",
    "    net.remove_edges_from(removal_list)\n",
    "    \n",
    "    for key, new_edge in neighbors_dict.items():\n",
    "        net.add_edge(key, seller[0], review=(new_edge['review_sum']/new_edge['n_reviews']))\n",
    "    \n",
    "nx.info(net)"
   ]
  },
  {
   "cell_type": "code",
   "execution_count": 29,
   "metadata": {},
   "outputs": [],
   "source": [
    "nx.write_adjlist(net, '../network/merged_edges.edges')"
   ]
  }
 ],
 "metadata": {
  "interpreter": {
   "hash": "521bd52f7db69f83952e45c69a41cc5a9312142da056b7c563e70a654200e62d"
  },
  "kernelspec": {
   "display_name": "Python 3.9.5 ('base')",
   "language": "python",
   "name": "python3"
  },
  "language_info": {
   "codemirror_mode": {
    "name": "ipython",
    "version": 3
   },
   "file_extension": ".py",
   "mimetype": "text/x-python",
   "name": "python",
   "nbconvert_exporter": "python",
   "pygments_lexer": "ipython3",
   "version": "3.9.5"
  },
  "orig_nbformat": 4
 },
 "nbformat": 4,
 "nbformat_minor": 2
}
