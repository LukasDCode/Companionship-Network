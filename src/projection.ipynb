{
 "cells": [
  {
   "cell_type": "code",
   "execution_count": 1,
   "metadata": {},
   "outputs": [],
   "source": [
    "import pandas as pd\n",
    "\n",
    "nodes = pd.read_csv('../network/nodes.csv', delimiter=' ')\n",
    "edges = pd.read_csv('../network/edges.csv', delimiter=' ')"
   ]
  },
  {
   "cell_type": "code",
   "execution_count": 2,
   "metadata": {},
   "outputs": [
    {
     "data": {
      "text/html": [
       "<div>\n",
       "<style scoped>\n",
       "    .dataframe tbody tr th:only-of-type {\n",
       "        vertical-align: middle;\n",
       "    }\n",
       "\n",
       "    .dataframe tbody tr th {\n",
       "        vertical-align: top;\n",
       "    }\n",
       "\n",
       "    .dataframe thead th {\n",
       "        text-align: right;\n",
       "    }\n",
       "</style>\n",
       "<table border=\"1\" class=\"dataframe\">\n",
       "  <thead>\n",
       "    <tr style=\"text-align: right;\">\n",
       "      <th></th>\n",
       "      <th>Id</th>\n",
       "      <th>Type</th>\n",
       "    </tr>\n",
       "  </thead>\n",
       "  <tbody>\n",
       "    <tr>\n",
       "      <th>0</th>\n",
       "      <td>1</td>\n",
       "      <td>B</td>\n",
       "    </tr>\n",
       "    <tr>\n",
       "      <th>1</th>\n",
       "      <td>2</td>\n",
       "      <td>B</td>\n",
       "    </tr>\n",
       "    <tr>\n",
       "      <th>2</th>\n",
       "      <td>3</td>\n",
       "      <td>B</td>\n",
       "    </tr>\n",
       "    <tr>\n",
       "      <th>3</th>\n",
       "      <td>4</td>\n",
       "      <td>B</td>\n",
       "    </tr>\n",
       "    <tr>\n",
       "      <th>4</th>\n",
       "      <td>5</td>\n",
       "      <td>B</td>\n",
       "    </tr>\n",
       "  </tbody>\n",
       "</table>\n",
       "</div>"
      ],
      "text/plain": [
       "   Id Type\n",
       "0   1    B\n",
       "1   2    B\n",
       "2   3    B\n",
       "3   4    B\n",
       "4   5    B"
      ]
     },
     "execution_count": 2,
     "metadata": {},
     "output_type": "execute_result"
    }
   ],
   "source": [
    "nodes.head()"
   ]
  },
  {
   "cell_type": "code",
   "execution_count": 3,
   "metadata": {},
   "outputs": [
    {
     "data": {
      "text/html": [
       "<div>\n",
       "<style scoped>\n",
       "    .dataframe tbody tr th:only-of-type {\n",
       "        vertical-align: middle;\n",
       "    }\n",
       "\n",
       "    .dataframe tbody tr th {\n",
       "        vertical-align: top;\n",
       "    }\n",
       "\n",
       "    .dataframe thead th {\n",
       "        text-align: right;\n",
       "    }\n",
       "</style>\n",
       "<table border=\"1\" class=\"dataframe\">\n",
       "  <thead>\n",
       "    <tr style=\"text-align: right;\">\n",
       "      <th></th>\n",
       "      <th>Source</th>\n",
       "      <th>Target</th>\n",
       "      <th>Review</th>\n",
       "      <th>Time</th>\n",
       "    </tr>\n",
       "  </thead>\n",
       "  <tbody>\n",
       "    <tr>\n",
       "      <th>0</th>\n",
       "      <td>1</td>\n",
       "      <td>10107</td>\n",
       "      <td>0</td>\n",
       "      <td>1030831200</td>\n",
       "    </tr>\n",
       "    <tr>\n",
       "      <th>1</th>\n",
       "      <td>1</td>\n",
       "      <td>10108</td>\n",
       "      <td>1</td>\n",
       "      <td>1030831200</td>\n",
       "    </tr>\n",
       "    <tr>\n",
       "      <th>2</th>\n",
       "      <td>1</td>\n",
       "      <td>10109</td>\n",
       "      <td>0</td>\n",
       "      <td>1030831200</td>\n",
       "    </tr>\n",
       "    <tr>\n",
       "      <th>3</th>\n",
       "      <td>2</td>\n",
       "      <td>10107</td>\n",
       "      <td>0</td>\n",
       "      <td>1032645600</td>\n",
       "    </tr>\n",
       "    <tr>\n",
       "      <th>4</th>\n",
       "      <td>3</td>\n",
       "      <td>10110</td>\n",
       "      <td>0</td>\n",
       "      <td>1034892000</td>\n",
       "    </tr>\n",
       "  </tbody>\n",
       "</table>\n",
       "</div>"
      ],
      "text/plain": [
       "   Source  Target  Review        Time\n",
       "0       1   10107       0  1030831200\n",
       "1       1   10108       1  1030831200\n",
       "2       1   10109       0  1030831200\n",
       "3       2   10107       0  1032645600\n",
       "4       3   10110       0  1034892000"
      ]
     },
     "execution_count": 3,
     "metadata": {},
     "output_type": "execute_result"
    }
   ],
   "source": [
    "edges.head()"
   ]
  },
  {
   "cell_type": "code",
   "execution_count": 4,
   "metadata": {},
   "outputs": [],
   "source": [
    "import networkx as nx\n",
    "\n",
    "buyers = nodes[nodes['Type'] == 'B']['Id'].to_list()\n",
    "sellers = nodes[nodes['Type'] == 'S']['Id'].to_list()\n",
    "\n",
    "G = nx.Graph(name=\"Companion Network\")\n",
    "G.add_nodes_from(buyers, bipartite=0)\n",
    "G.add_nodes_from(sellers, bipartite=1)\n",
    "\n",
    "for index, row in edges.iterrows():\n",
    "    G.add_edge(row[\"Source\"], row[\"Target\"], review=row['Review'], time=row['Time'])"
   ]
  },
  {
   "cell_type": "code",
   "execution_count": 5,
   "metadata": {},
   "outputs": [],
   "source": [
    "from networkx.algorithms import bipartite\n",
    "\n",
    "B_proj = bipartite.projected_graph(G, buyers, multigraph=False)\n",
    "S_proj = bipartite.projected_graph(G, sellers, multigraph=False)"
   ]
  },
  {
   "cell_type": "code",
   "execution_count": 6,
   "metadata": {},
   "outputs": [
    {
     "name": "stdout",
     "output_type": "stream",
     "text": [
      "Graph named 'Companion Network' with 10106 nodes and 668183 edges\n",
      "Graph named 'Companion Network' with 6624 nodes and 183465 edges\n"
     ]
    }
   ],
   "source": [
    "print(nx.info(B_proj))\n",
    "print(nx.info(S_proj))"
   ]
  },
  {
   "cell_type": "code",
   "execution_count": 7,
   "metadata": {},
   "outputs": [],
   "source": [
    "nx.write_edgelist(B_proj, '../network/b_proj.csv')\n",
    "nx.write_edgelist(S_proj, '../network/s_proj.csv')"
   ]
  },
  {
   "cell_type": "code",
   "execution_count": 59,
   "metadata": {},
   "outputs": [],
   "source": [
    "import matplotlib.pyplot as plt\n",
    "import numpy as np\n",
    "\n",
    "def binning(degrees, prob):\n",
    "    bag_dict = dict()\n",
    "    for d, p in zip(degrees, prob):\n",
    "        x = np.log2(d)\n",
    "        x = np.floor(x)\n",
    "        bag = 2 ** x\n",
    "        if bag not in bag_dict.keys():\n",
    "            bag_dict[bag] = {\n",
    "                'sum': p,\n",
    "                'n': 1\n",
    "            }\n",
    "        else:\n",
    "            bag_dict[bag]['sum'] += p\n",
    "            bag_dict[bag]['n'] += 1\n",
    "    \n",
    "    x1 = bag_dict.keys()\n",
    "    x2 = [v['sum'] / v['n'] for _, v in bag_dict.items()]\n",
    "    return x1, x2\n",
    "\n",
    "def cdf(prob, c=.5, alpha=-2):\n",
    "    cp = lambda x: (c / (1 - alpha)) * (x ** (-1 * (alpha - 1)))\n",
    "    return [cp(p) for p in prob]\n",
    "\n",
    "def plot_degree_dist(G, do_cdf=False):\n",
    "    degrees = [G.degree(n) for n in G.nodes()]\n",
    "    degrees = sorted(degrees, reverse=True)\n",
    "\n",
    "    degrees_len = len(degrees)\n",
    "    prob = [degrees.count(x) / degrees_len for x in degrees]\n",
    "    \n",
    "    x1 = degrees\n",
    "    x2 = prob\n",
    "    if do_cdf:\n",
    "        x2 = cdf(x2)\n",
    "\n",
    "    ax = plt.gca()\n",
    "    ax.scatter(x1, x2)\n",
    "    ax.set_yscale('log')\n",
    "    ax.set_xscale('log')\n",
    "\n",
    "    ax.set_title('Degree distribution')\n",
    "    ax.set_xlabel('Degree')\n",
    "    ax.set_ylabel('Probability')\n",
    "\n",
    "    plt.show()"
   ]
  },
  {
   "cell_type": "code",
   "execution_count": 60,
   "metadata": {},
   "outputs": [
    {
     "data": {
      "image/png": "[encoded data removed]",
      "text/plain": [
       "<Figure size 432x288 with 1 Axes>"
      ]
     },
     "metadata": {
      "needs_background": "light"
     },
     "output_type": "display_data"
    }
   ],
   "source": [
    "plot_degree_dist(B_proj)"
   ]
  },
  {
   "cell_type": "code",
   "execution_count": 61,
   "metadata": {},
   "outputs": [
    {
     "data": {
      "image/png": "[encoded data removed]",
      "text/plain": [
       "<Figure size 432x288 with 1 Axes>"
      ]
     },
     "metadata": {
      "needs_background": "light"
     },
     "output_type": "display_data"
    }
   ],
   "source": [
    "plot_degree_dist(B_proj, True)"
   ]
  },
  {
   "cell_type": "code",
   "execution_count": 62,
   "metadata": {},
   "outputs": [
    {
     "data": {
      "image/png": "[encoded data removed]",
      "text/plain": [
       "<Figure size 432x288 with 1 Axes>"
      ]
     },
     "metadata": {
      "needs_background": "light"
     },
     "output_type": "display_data"
    }
   ],
   "source": [
    "plot_degree_dist(S_proj)"
   ]
  }
 ],
 "metadata": {
  "interpreter": {
   "hash": "521bd52f7db69f83952e45c69a41cc5a9312142da056b7c563e70a654200e62d"
  },
  "kernelspec": {
   "display_name": "Python 3.9.5 ('base')",
   "language": "python",
   "name": "python3"
  },
  "language_info": {
   "codemirror_mode": {
    "name": "ipython",
    "version": 3
   },
   "file_extension": ".py",
   "mimetype": "text/x-python",
   "name": "python",
   "nbconvert_exporter": "python",
   "pygments_lexer": "ipython3",
   "version": "3.9.5"
  },
  "orig_nbformat": 4
 },
 "nbformat": 4,
 "nbformat_minor": 2
}
