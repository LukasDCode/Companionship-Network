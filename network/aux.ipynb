{
 "cells": [
  {
   "cell_type": "code",
   "execution_count": 30,
   "metadata": {},
   "outputs": [],
   "source": [
    "import pandas as pd\n",
    "\n",
    "df = pd.read_csv('ia-escorts-dynamic.edges', sep=' ', skiprows=2, names= [\"Source\", \"Target\", \"Review\", \"Time\"])   "
   ]
  },
  {
   "cell_type": "code",
   "execution_count": 31,
   "metadata": {},
   "outputs": [
    {
     "data": {
      "text/plain": [
       "10106"
      ]
     },
     "execution_count": 31,
     "metadata": {},
     "output_type": "execute_result"
    }
   ],
   "source": [
    "max_id = df['Source'].max()\n",
    "max_id"
   ]
  },
  {
   "cell_type": "code",
   "execution_count": 32,
   "metadata": {},
   "outputs": [],
   "source": [
    "df['Target'] = df['Target'].apply(lambda x: x + max_id)"
   ]
  },
  {
   "cell_type": "code",
   "execution_count": 33,
   "metadata": {},
   "outputs": [],
   "source": [
    "import numpy as np\n",
    "\n",
    "ids = np.concatenate((df['Source'].unique(), df['Target'].unique())).tolist()\n",
    "labels = ['B' if x <= max_id else 'S' for x in ids]\n",
    "\n",
    "with open('nodes.csv', 'w') as f:\n",
    "    f.write('Id Typeaaaa\\n')\n",
    "    for id, l in zip(ids, labels):\n",
    "        f.write(f'{id} {l}\\n')"
   ]
  },
  {
   "cell_type": "code",
   "execution_count": 34,
   "metadata": {},
   "outputs": [],
   "source": [
    "df.to_csv('edges.csv', index=False, sep=' ')"
   ]
  }
 ],
 "metadata": {
  "interpreter": {
   "hash": "521bd52f7db69f83952e45c69a41cc5a9312142da056b7c563e70a654200e62d"
  },
  "kernelspec": {
   "display_name": "Python 3.9.5 ('base')",
   "language": "python",
   "name": "python3"
  },
  "language_info": {
   "codemirror_mode": {
    "name": "ipython",
    "version": 3
   },
   "file_extension": ".py",
   "mimetype": "text/x-python",
   "name": "python",
   "nbconvert_exporter": "python",
   "pygments_lexer": "ipython3",
   "version": "3.9.5"
  },
  "orig_nbformat": 4
 },
 "nbformat": 4,
 "nbformat_minor": 2
}
